{
 "cells": [
  {
   "cell_type": "code",
   "execution_count": 13,
   "id": "619762f0",
   "metadata": {},
   "outputs": [
    {
     "name": "stdout",
     "output_type": "stream",
     "text": [
      "  Station_Code Station_Name Province        Date  Mean_Pressure  \\\n",
      "0        1141A           普陀       上海  2019-01-01         1037.6   \n",
      "1        1141A           普陀       上海  2019-01-02         1036.0   \n",
      "2        1141A           普陀       上海  2019-01-03         1033.8   \n",
      "3        1141A           普陀       上海  2019-01-04         1027.7   \n",
      "4        1141A           普陀       上海  2019-01-05         1026.5   \n",
      "\n",
      "   Mean_Humidity  Mean_Temperature  Mean_Wind_Speed  Max_Wind_Direction    O3  \\\n",
      "0           61.0               3.8              3.2                14.0  69.0   \n",
      "1           62.0               4.6              2.4                 2.0  66.0   \n",
      "2           67.0               7.0              1.6                 4.0  46.0   \n",
      "3           89.0               9.6              2.0                 6.0  49.0   \n",
      "4           95.0               8.1              2.3                 3.0  34.0   \n",
      "\n",
      "   v1  \n",
      "0  O3  \n",
      "1  O3  \n",
      "2  O3  \n",
      "3  O3  \n",
      "4  O3  \n"
     ]
    }
   ],
   "source": [
    "import pandas as pd\n",
    "import numpy as np\n",
    "# 读取数据环境基线_wang_3\\环境基线_wang_3\\环境基线_wang_3\\Program\\result\\Matched_Data\\2019\\O3\\安徽\\matched_data_with_o3.csv\n",
    "df = pd.read_csv(r'..\\result\\Matched_Data\\2019\\O3\\上海\\matched_data_with_o3.csv')\n",
    "print(df.head())\n"
   ]
  },
  {
   "cell_type": "code",
   "execution_count": 14,
   "id": "8ec93bde",
   "metadata": {},
   "outputs": [
    {
     "name": "stdout",
     "output_type": "stream",
     "text": [
      "Station_Code\n",
      "1141A    365\n",
      "1142A    365\n",
      "1143A    365\n",
      "1144A    365\n",
      "1145A    365\n",
      "1147A    365\n",
      "1148A    365\n",
      "1149A    365\n",
      "1150A    365\n",
      "Name: count, dtype: int64\n"
     ]
    }
   ],
   "source": [
    "station_counts = df['Station_Code'].value_counts()\n",
    "print(station_counts)"
   ]
  },
  {
   "cell_type": "code",
   "execution_count": 15,
   "id": "cdcdbc26",
   "metadata": {},
   "outputs": [
    {
     "name": "stdout",
     "output_type": "stream",
     "text": [
      "保留的站点数: 9\n"
     ]
    }
   ],
   "source": [
    "\n",
    "# 1. 找出数据最完整的站点（数据条数最多的）\n",
    "station_counts = df['Station_Code'].value_counts()\n",
    "max_count = station_counts.max()\n",
    "valid_stations = station_counts[station_counts == max_count].index.tolist()\n",
    "\n",
    "print(f\"保留的站点数: {len(valid_stations)}\")\n",
    "# print(f\"每个站点的数据天数: {max_count}\")\n",
    "df_valid = df[df['Station_Code'].isin(valid_stations)].copy()\n"
   ]
  },
  {
   "cell_type": "code",
   "execution_count": 18,
   "id": "e0b733cc",
   "metadata": {},
   "outputs": [
    {
     "name": "stdout",
     "output_type": "stream",
     "text": [
      "  Province        Date  Mean_Pressure  Mean_Humidity  Mean_Temperature  \\\n",
      "0       上海  2019-01-01         1037.6           61.0               3.8   \n",
      "1       上海  2019-01-02         1036.0           62.0               4.6   \n",
      "2       上海  2019-01-03         1033.8           67.0               7.0   \n",
      "3       上海  2019-01-04         1027.7           89.0               9.6   \n",
      "4       上海  2019-01-05         1026.5           95.0               8.1   \n",
      "\n",
      "   Mean_Wind_Speed  Max_Wind_Direction         O3  \n",
      "0              3.2                14.0  67.777778  \n",
      "1              2.4                 2.0  67.777778  \n",
      "2              1.6                 4.0  54.666667  \n",
      "3              2.0                 6.0  46.888889  \n",
      "4              2.3                 3.0  41.222222  \n"
     ]
    }
   ],
   "source": [
    "# 6. 计算各省份各指标平均值\n",
    "numeric_cols = ['Mean_Pressure', 'Mean_Humidity', 'Mean_Temperature', \n",
    "               'Mean_Wind_Speed', 'Max_Wind_Direction', 'O3']\n",
    "result = df_valid.groupby(['Province', 'Date'])[numeric_cols].mean().reset_index()\n",
    "\n",
    "\n",
    "print(result.head())\n"
   ]
  },
  {
   "cell_type": "code",
   "execution_count": 9,
   "id": "2db93d29",
   "metadata": {},
   "outputs": [
    {
     "name": "stdout",
     "output_type": "stream",
     "text": [
      "  Province        Date  year  month  day  hour  weekday  dayofyear  \\\n",
      "0       上海  2019-01-01  2019      1    1     0        1          1   \n",
      "1       上海  2019-01-02  2019      1    2     0        2          2   \n",
      "2       上海  2019-01-03  2019      1    3     0        3          3   \n",
      "3       上海  2019-01-04  2019      1    4     0        4          4   \n",
      "4       上海  2019-01-05  2019      1    5     0        5          5   \n",
      "\n",
      "   Mean_Pressure  Mean_Humidity  Mean_Temperature  Mean_Wind_Speed  \\\n",
      "0         1037.6           61.0               3.8              3.2   \n",
      "1         1036.0           62.0               4.6              2.4   \n",
      "2         1033.8           67.0               7.0              1.6   \n",
      "3         1027.7           89.0               9.6              2.0   \n",
      "4         1026.5           95.0               8.1              2.3   \n",
      "\n",
      "   Max_Wind_Direction         O3  human_effect  natural_effect  \n",
      "0                14.0  67.777778     67.601007        0.176771  \n",
      "1                 2.0  67.777778     68.014500       -0.236722  \n",
      "2                 4.0  54.666667     54.806253       -0.139586  \n",
      "3                 6.0  46.888889     46.909842       -0.020953  \n",
      "4                 3.0  41.222222     41.230529       -0.008307  \n"
     ]
    }
   ],
   "source": [
    "\n",
    "# 2. 筛选出数据完整的站点\n",
    "df_valid = df[df['Station_Code'].isin(valid_stations)].copy()\n",
    "\n",
    "# 3. 按省份和日期分组，计算平均值\n",
    "result = df_valid.groupby(['Province', 'Date']).agg({\n",
    "    'Mean_Pressure': 'mean',\n",
    "    'Mean_Humidity': 'mean',\n",
    "    'Mean_Temperature': 'mean',\n",
    "    'Mean_Wind_Speed': 'mean',\n",
    "    'Max_Wind_Direction': 'mean',\n",
    "    'O3': 'mean',\n",
    "    'human_effect': 'mean',\n",
    "    'natural_effect': 'mean'\n",
    "}).reset_index()\n",
    "\n",
    "# 4. 添加时间相关列（从原始数据中保留）\n",
    "time_cols = ['year', 'month', 'day', 'hour', 'weekday', 'dayofyear']\n",
    "for col in time_cols:\n",
    "    # 取每个日期第一次出现的值（所有站点同一天的值相同）\n",
    "    date_values = df_valid.drop_duplicates('Date').set_index('Date')[col]\n",
    "    result[col] = result['Date'].map(date_values)\n",
    "\n",
    "# 5. 重新排列列顺序\n",
    "cols_order = ['Province', 'Date'] + time_cols + [\n",
    "    'Mean_Pressure', 'Mean_Humidity', 'Mean_Temperature',\n",
    "    'Mean_Wind_Speed', 'Max_Wind_Direction', 'O3',\n",
    "    'human_effect', 'natural_effect'\n",
    "]\n",
    "result = result[cols_order]\n",
    "print(result.head())"
   ]
  },
  {
   "cell_type": "code",
   "execution_count": null,
   "id": "6985f570",
   "metadata": {},
   "outputs": [],
   "source": [
    "\n",
    "# 6. 保存结果\n",
    "result.to_csv('province_daily_avg.csv', index=False)\n",
    "\n",
    "print(\"处理完成！结果已保存为 province_daily_avg.csv\")\n"
   ]
  },
  {
   "cell_type": "code",
   "execution_count": 17,
   "id": "a37baa78",
   "metadata": {},
   "outputs": [
    {
     "name": "stdout",
     "output_type": "stream",
     "text": [
      "68\n"
     ]
    }
   ],
   "source": [
    "\n",
    "# 打印站点数量\n",
    "print(len(df['Station_Code'].unique()))"
   ]
  },
  {
   "cell_type": "code",
   "execution_count": 18,
   "id": "3f988143",
   "metadata": {},
   "outputs": [
    {
     "name": "stdout",
     "output_type": "stream",
     "text": [
      "  Station_Code  2019-01-01  2019-01-02  2019-01-03  2019-01-04  2019-01-05  \\\n",
      "0        1795A        56.0        55.0        36.0        17.0        18.0   \n",
      "1        1798A        56.0        50.0        31.0        10.0        13.0   \n",
      "2        1799A        55.0        55.0        36.0         8.0        10.0   \n",
      "3        1800A        57.0        51.0        34.0        10.0        17.0   \n",
      "4        1801A        35.0        47.0        30.0         6.0         8.0   \n",
      "\n",
      "   2019-01-06  2019-01-07  2019-01-08  2019-01-09  ...  2019-12-22  \\\n",
      "0        30.0        14.0        36.0        34.0  ...        40.0   \n",
      "1        24.0        16.0        41.0        34.0  ...        42.0   \n",
      "2        30.0        19.0        49.0        39.0  ...        38.0   \n",
      "3        24.0        25.0        37.0        34.0  ...        32.0   \n",
      "4        22.0        16.0        37.0        28.0  ...        39.0   \n",
      "\n",
      "   2019-12-23  2019-12-24  2019-12-25  2019-12-26  2019-12-27  2019-12-28  \\\n",
      "0        32.0        49.0        16.0        28.0        44.0        57.0   \n",
      "1        34.0        48.0        13.0        30.0        53.0        57.0   \n",
      "2        39.0        48.0        16.0        27.0        42.0        60.0   \n",
      "3        44.0        52.0        17.0        31.0        54.0        64.0   \n",
      "4        35.0        44.0        13.0        13.0        27.0        64.0   \n",
      "\n",
      "   2019-12-29  2019-12-30  2019-12-31  \n",
      "0        24.0        56.0        56.0  \n",
      "1        33.0        62.0        51.0  \n",
      "2        33.0        57.0        48.0  \n",
      "3        22.0        68.0        55.0  \n",
      "4        41.0        49.0        48.0  \n",
      "\n",
      "[5 rows x 366 columns]\n",
      "43\n"
     ]
    }
   ],
   "source": [
    "\n",
    "# 1. 筛选臭氧数据（假设 v1 列是污染物类型，O3 表示臭氧）\n",
    "df_o3 = df[df[\"v1\"] == \"O3\"].copy()\n",
    "\n",
    "# 2. 找出所有日期范围（全局 min_date 和 max_date）\n",
    "all_dates = pd.to_datetime(df_o3[\"Date\"]).sort_values()\n",
    "min_date, max_date = all_dates.min(), all_dates.max()\n",
    "date_range = pd.date_range(min_date, max_date, freq=\"D\")\n",
    "date_columns = [d.strftime(\"%Y-%m-%d\") for d in date_range]\n",
    "\n",
    "# 3. 按站点分组，并检查数据长度是否匹配最长站点\n",
    "max_length = len(date_range)\n",
    "result = []\n",
    "\n",
    "for station_code, group in df_o3.groupby(\"Station_Code\"):\n",
    "    # 检查该站点数据是否覆盖全部日期\n",
    "    if len(group) == max_length:\n",
    "        # 按日期排序并提取臭氧浓度\n",
    "        group_sorted = group.sort_values(\"Date\")\n",
    "        o3_values = group_sorted.set_index(\"Date\")[\"O3\"].reindex(date_columns).values\n",
    "        result.append([station_code] + o3_values.tolist())\n",
    "\n",
    "# 4. 创建最终 DataFrame\n",
    "final_df = pd.DataFrame(\n",
    "    result,\n",
    "    columns=[\"Station_Code\"] + date_columns\n",
    ")\n",
    "\n",
    "# 5. 保存结果\n",
    "print(final_df.head())\n",
    "print(len(final_df))\n"
   ]
  },
  {
   "cell_type": "code",
   "execution_count": 30,
   "id": "e9c9e150",
   "metadata": {},
   "outputs": [
    {
     "name": "stdout",
     "output_type": "stream",
     "text": [
      "   省份  2019-01-01  2019-01-02  2019-01-03  2019-01-04  2019-01-05  2019-01-06  \\\n",
      "0  安徽   57.952472   55.021223   38.927183   27.856399   30.297242   43.807854   \n",
      "\n",
      "   2019-01-07  2019-01-08  2019-01-09  ...  2019-12-22  2019-12-23  \\\n",
      "0   28.341721   42.573262   42.014106  ...   55.732294   36.286971   \n",
      "\n",
      "   2019-12-24  2019-12-25  2019-12-26  2019-12-27  2019-12-28  2019-12-29  \\\n",
      "0   43.283509   22.838187   43.230074   64.087077    58.22315   55.382479   \n",
      "\n",
      "   2019-12-30  2019-12-31  \n",
      "0   44.076691   53.073229  \n",
      "\n",
      "[1 rows x 366 columns]\n"
     ]
    }
   ],
   "source": [
    "# 1. 计算每个日期的平均值（按列计算）\n",
    "daily_avg = final_df.drop(columns=[\"Station_Code\"]).mean(axis=0)\n",
    "\n",
    "# 2. 转换为 DataFrame，并添加 \"省份\" 列\n",
    "result_df = pd.DataFrame({\n",
    "    \"省份\": [\"安徽\"],  # 固定值\n",
    "    **daily_avg.to_dict()  # 展开日期和平均值\n",
    "})\n",
    "\n",
    "# 3. 调整列顺序（省份列放第一列）\n",
    "cols = [\"省份\"] + [col for col in result_df.columns if col != \"省份\"]\n",
    "result_df = result_df[cols]\n",
    "\n",
    "# 输出结果\n",
    "print(result_df)"
   ]
  }
 ],
 "metadata": {
  "kernelspec": {
   "display_name": "Python310",
   "language": "python",
   "name": "python3"
  },
  "language_info": {
   "codemirror_mode": {
    "name": "ipython",
    "version": 3
   },
   "file_extension": ".py",
   "mimetype": "text/x-python",
   "name": "python",
   "nbconvert_exporter": "python",
   "pygments_lexer": "ipython3",
   "version": "3.10.14"
  }
 },
 "nbformat": 4,
 "nbformat_minor": 5
}
